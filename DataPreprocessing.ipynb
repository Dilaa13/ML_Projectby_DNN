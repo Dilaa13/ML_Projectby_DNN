{
  "cells": [
    {
      "cell_type": "code",
      "execution_count": 1,
      "id": "05e3b0ce-4ad3-4ef1-b1a2-9bc6afba98ee",
      "metadata": {
        "id": "05e3b0ce-4ad3-4ef1-b1a2-9bc6afba98ee"
      },
      "outputs": [],
      "source": [
        "import pandas as pd\n",
        "import matplotlib.pyplot as plt\n",
        "import seaborn as sns\n",
        "\n",
        "\n",
        "\n"
      ]
    },
    {
      "cell_type": "code",
      "execution_count": 4,
      "id": "88aa1b37-4416-461e-aa6b-000d37079f92",
      "metadata": {
        "id": "88aa1b37-4416-461e-aa6b-000d37079f92"
      },
      "outputs": [],
      "source": [
        "\n",
        "# Load datasets\n",
        "test_url = \"https://raw.githubusercontent.com/Dilaa13/ML_Projectby_DNN/refs/heads/main/test.csv\"\n",
        "train_url = \"https://raw.githubusercontent.com/Dilaa13/ML_Projectby_DNN/refs/heads/main/train.csv\"\n",
        "\n",
        "train_df = pd.read_csv(train_url)\n",
        "test_df = pd.read_csv(train_url)\n",
        "\n",
        "#Remove Unnecessary Columns\n",
        "train_df.drop(columns=[\"Unnamed: 0\", \"id\"], inplace=True)\n",
        "test_df.drop(columns=[\"Unnamed: 0\", \"id\"], inplace=True)\n"
      ]
    },
    {
      "cell_type": "markdown",
      "id": "a9589709-b989-4688-bf8c-9b4ec0f31ba0",
      "metadata": {
        "id": "a9589709-b989-4688-bf8c-9b4ec0f31ba0"
      },
      "source": [
        "- Identify feature types(Numerical Vs catogerical)\n",
        "- check for missing values and data consistancy."
      ]
    },
    {
      "cell_type": "code",
      "execution_count": null,
      "id": "b9851be3-0759-4a6d-804b-dd1135df83c5",
      "metadata": {
        "id": "b9851be3-0759-4a6d-804b-dd1135df83c5"
      },
      "outputs": [],
      "source": []
    }
  ],
  "metadata": {
    "kernelspec": {
      "display_name": "Python 3 (ipykernel)",
      "language": "python",
      "name": "python3"
    },
    "language_info": {
      "codemirror_mode": {
        "name": "ipython",
        "version": 3
      },
      "file_extension": ".py",
      "mimetype": "text/x-python",
      "name": "python",
      "nbconvert_exporter": "python",
      "pygments_lexer": "ipython3",
      "version": "3.12.3"
    },
    "colab": {
      "provenance": []
    }
  },
  "nbformat": 4,
  "nbformat_minor": 5
}