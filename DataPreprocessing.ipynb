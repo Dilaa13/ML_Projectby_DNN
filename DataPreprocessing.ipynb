{
  "cells": [
    {
      "cell_type": "code",
      "execution_count": 7,
      "id": "05e3b0ce-4ad3-4ef1-b1a2-9bc6afba98ee",
      "metadata": {
        "id": "05e3b0ce-4ad3-4ef1-b1a2-9bc6afba98ee"
      },
      "outputs": [],
      "source": [
        "import pandas as pd\n",
        "import matplotlib.pyplot as plt\n",
        "import seaborn as sns\n",
        "import warnings\n",
        "from sklearn.preprocessing import LabelEncoder, StandardScaler"
      ]
    },
    {
      "cell_type": "code",
      "execution_count": 8,
      "id": "88aa1b37-4416-461e-aa6b-000d37079f92",
      "metadata": {
        "colab": {
          "base_uri": "https://localhost:8080/"
        },
        "id": "88aa1b37-4416-461e-aa6b-000d37079f92",
        "outputId": "f51c2053-0fd1-4fd4-886e-0ad24af4fc99"
      },
      "outputs": [
        {
          "output_type": "execute_result",
          "data": {
            "text/plain": [
              "(     Gender  Customer Type       Age  Type of Travel     Class  \\\n",
              " 0  1.015031      -0.472767 -1.745279        1.490614  2.264618   \n",
              " 1  1.015031       2.115208 -0.951360       -0.670865 -0.957054   \n",
              " 2 -0.985192      -0.472767 -0.885200       -0.670865 -0.957054   \n",
              " 3 -0.985192      -0.472767 -0.951360       -0.670865 -0.957054   \n",
              " 4  1.015031      -0.472767  1.430397       -0.670865 -0.957054   \n",
              " \n",
              "    Flight Distance  Inflight wifi service  Departure/Arrival time convenient  \\\n",
              " 0        -0.731539               0.203579                           0.616172   \n",
              " 1        -0.957184               0.203579                          -0.695245   \n",
              " 2        -0.047584              -0.549533                          -0.695245   \n",
              " 3        -0.629246              -0.549533                           1.271880   \n",
              " 4        -0.978244               0.203579                          -0.039537   \n",
              " \n",
              "    Ease of Online booking  Gate location  ...  Inflight entertainment  \\\n",
              " 0                0.173776      -1.547323  ...                1.231704   \n",
              " 1                0.173776       0.018094  ...               -1.769081   \n",
              " 2               -0.541060      -0.764614  ...                1.231704   \n",
              " 3                1.603448       1.583511  ...               -1.018885   \n",
              " 4                0.173776       0.018094  ...               -0.268688   \n",
              " \n",
              "    On-board service  Leg room service  Baggage handling  Checkin service  \\\n",
              " 0          0.479403          -0.26684          0.311769         0.549799   \n",
              " 1         -1.849161           1.25338         -0.535045        -1.821012   \n",
              " 2          0.479403          -0.26684          0.311769         0.549799   \n",
              " 3         -1.072973           1.25338         -0.535045        -1.821012   \n",
              " 4         -0.296785           0.49327          0.311769        -0.240472   \n",
              " \n",
              "    Inflight service  Cleanliness  Departure Delay in Minutes  \\\n",
              " 0          1.156436     1.305870                    0.266393   \n",
              " 1          0.305848    -1.742292                   -0.361375   \n",
              " 2          0.305848     1.305870                   -0.387532   \n",
              " 3          0.305848    -0.980251                   -0.099805   \n",
              " 4         -0.544740    -0.218211                   -0.387532   \n",
              " \n",
              "    Arrival Delay in Minutes  satisfaction  \n",
              " 0                  0.074169             0  \n",
              " 1                 -0.236313             0  \n",
              " 2                 -0.391554             1  \n",
              " 3                 -0.158692             0  \n",
              " 4                 -0.391554             1  \n",
              " \n",
              " [5 rows x 23 columns],\n",
              "      Gender  Customer Type       Age  Type of Travel     Class  \\\n",
              " 0  1.015031      -0.472767 -1.745279        1.490614  2.264618   \n",
              " 1  1.015031       2.115208 -0.951360       -0.670865 -0.957054   \n",
              " 2 -0.985192      -0.472767 -0.885200       -0.670865 -0.957054   \n",
              " 3 -0.985192      -0.472767 -0.951360       -0.670865 -0.957054   \n",
              " 4  1.015031      -0.472767  1.430397       -0.670865 -0.957054   \n",
              " \n",
              "    Flight Distance  Inflight wifi service  Departure/Arrival time convenient  \\\n",
              " 0        -0.731539               0.203579                           0.616172   \n",
              " 1        -0.957184               0.203579                          -0.695245   \n",
              " 2        -0.047584              -0.549533                          -0.695245   \n",
              " 3        -0.629246              -0.549533                           1.271880   \n",
              " 4        -0.978244               0.203579                          -0.039537   \n",
              " \n",
              "    Ease of Online booking  Gate location  ...  Inflight entertainment  \\\n",
              " 0                0.173776      -1.547323  ...                1.231704   \n",
              " 1                0.173776       0.018094  ...               -1.769081   \n",
              " 2               -0.541060      -0.764614  ...                1.231704   \n",
              " 3                1.603448       1.583511  ...               -1.018885   \n",
              " 4                0.173776       0.018094  ...               -0.268688   \n",
              " \n",
              "    On-board service  Leg room service  Baggage handling  Checkin service  \\\n",
              " 0          0.479403          -0.26684          0.311769         0.549799   \n",
              " 1         -1.849161           1.25338         -0.535045        -1.821012   \n",
              " 2          0.479403          -0.26684          0.311769         0.549799   \n",
              " 3         -1.072973           1.25338         -0.535045        -1.821012   \n",
              " 4         -0.296785           0.49327          0.311769        -0.240472   \n",
              " \n",
              "    Inflight service  Cleanliness  Departure Delay in Minutes  \\\n",
              " 0          1.156436     1.305870                    0.266393   \n",
              " 1          0.305848    -1.742292                   -0.361375   \n",
              " 2          0.305848     1.305870                   -0.387532   \n",
              " 3          0.305848    -0.980251                   -0.099805   \n",
              " 4         -0.544740    -0.218211                   -0.387532   \n",
              " \n",
              "    Arrival Delay in Minutes  satisfaction  \n",
              " 0                  0.074169             0  \n",
              " 1                 -0.236313             0  \n",
              " 2                 -0.391554             1  \n",
              " 3                 -0.158692             0  \n",
              " 4                 -0.391554             1  \n",
              " \n",
              " [5 rows x 23 columns])"
            ]
          },
          "metadata": {},
          "execution_count": 8
        }
      ],
      "source": [
        "\n",
        "# Suppress warnings\n",
        "warnings.filterwarnings(\"ignore\")\n",
        "\n",
        "# Load datasets\n",
        "test_url = \"https://raw.githubusercontent.com/Dilaa13/ML_Projectby_DNN/refs/heads/main/test.csv\"\n",
        "train_url = \"https://raw.githubusercontent.com/Dilaa13/ML_Projectby_DNN/refs/heads/main/train.csv\"\n",
        "\n",
        "train_df = pd.read_csv(train_url)\n",
        "test_df = pd.read_csv(train_url)\n",
        "\n",
        "#Remove Unnecessary Columns\n",
        "train_df.drop(columns=[\"Unnamed: 0\", \"id\"], inplace=True)\n",
        "test_df.drop(columns=[\"Unnamed: 0\", \"id\"], inplace=True)\n",
        "\n",
        "#Handle Missing Values\n",
        "train_df[\"Arrival Delay in Minutes\"].fillna(train_df[\"Arrival Delay in Minutes\"].median(), inplace=True)\n",
        "test_df[\"Arrival Delay in Minutes\"].fillna(test_df[\"Arrival Delay in Minutes\"].median(), inplace=True)\n",
        "\n",
        "#Encode Categorical Variables\n",
        "label_encoder = LabelEncoder()\n",
        "\n",
        "#Encode categorical columns\n",
        "for col in [\"Gender\", \"Customer Type\", \"Type of Travel\", \"Class\"]:\n",
        "    train_df[col] = label_encoder.fit_transform(train_df[col])\n",
        "    test_df[col] = label_encoder.transform(test_df[col])\n",
        "\n",
        "# Encode target variable: 'satisfaction' (Binary Classification: 0 or 1)\n",
        "train_df[\"satisfaction\"] = train_df[\"satisfaction\"].map({\"neutral or dissatisfied\": 0, \"satisfied\": 1})\n",
        "test_df[\"satisfaction\"] = test_df[\"satisfaction\"].map({\"neutral or dissatisfied\": 0, \"satisfied\": 1})\n",
        "\n",
        "#Normalize Numerical Features\n",
        "scaler = StandardScaler()\n",
        "\n",
        "# List of numerical features (excluding target variable)\n",
        "numerical_features = train_df.drop(columns=[\"satisfaction\"]).columns\n",
        "\n",
        "train_df[numerical_features] = scaler.fit_transform(train_df[numerical_features])\n",
        "test_df[numerical_features] = scaler.transform(test_df[numerical_features])\n",
        "\n",
        "# Display the first few rows after preprocessing\n",
        "train_df.head(), test_df.head()"
      ]
    },
    {
      "cell_type": "markdown",
      "id": "a9589709-b989-4688-bf8c-9b4ec0f31ba0",
      "metadata": {
        "id": "a9589709-b989-4688-bf8c-9b4ec0f31ba0"
      },
      "source": [
        "- Identify feature types(Numerical Vs catogerical)\n",
        "- check for missing values and data consistancy."
      ]
    },
    {
      "cell_type": "code",
      "execution_count": null,
      "id": "b9851be3-0759-4a6d-804b-dd1135df83c5",
      "metadata": {
        "id": "b9851be3-0759-4a6d-804b-dd1135df83c5"
      },
      "outputs": [],
      "source": []
    }
  ],
  "metadata": {
    "kernelspec": {
      "display_name": "Python 3 (ipykernel)",
      "language": "python",
      "name": "python3"
    },
    "language_info": {
      "codemirror_mode": {
        "name": "ipython",
        "version": 3
      },
      "file_extension": ".py",
      "mimetype": "text/x-python",
      "name": "python",
      "nbconvert_exporter": "python",
      "pygments_lexer": "ipython3",
      "version": "3.12.3"
    },
    "colab": {
      "provenance": []
    }
  },
  "nbformat": 4,
  "nbformat_minor": 5
}